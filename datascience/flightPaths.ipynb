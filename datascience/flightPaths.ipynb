{
 "cells": [
  {
   "cell_type": "code",
   "execution_count": 1,
   "metadata": {
    "collapsed": true
   },
   "outputs": [],
   "source": [
    "#These are the normal imports I use, not all of them are used.\n",
    "import pandas as pd\n",
    "import matplotlib.pyplot as plt\n",
    "%matplotlib inline\n",
    "from random import sample\n",
    "import glob\n",
    "import statsmodels.api as sm\n",
    "import numpy as np\n",
    "from mpl_toolkits.mplot3d import Axes3D\n",
    "from sklearn import mixture\n",
    "import matplotlib.cm as cm\n",
    "from scipy import stats\n",
    "import datetime\n",
    "import timeit\n",
    "import GPy\n",
    "from scipy.stats import zscore\n",
    "from sklearn.decomposition import PCA\n",
    "import plotly.offline as py\n",
    "import six\n"
   ]
  },
  {
   "cell_type": "code",
   "execution_count": 24,
   "metadata": {
    "collapsed": true
   },
   "outputs": [],
   "source": [
    "data = pd.read_csv(\"data3.csv\")\n",
    "paths = pd.read_csv(\"paths.csv\")\n",
    "path_times = pd.read_csv(\"path_times.csv\")\n",
    "airports = pd.read_csv(\"airports_latlong.csv\")\n",
    "paths = paths.iloc[:,1:]"
   ]
  },
  {
   "cell_type": "code",
   "execution_count": 25,
   "metadata": {
    "collapsed": false
   },
   "outputs": [
    {
     "data": {
      "text/html": [
       "<div>\n",
       "<table border=\"1\" class=\"dataframe\">\n",
       "  <thead>\n",
       "    <tr style=\"text-align: right;\">\n",
       "      <th></th>\n",
       "      <th>V1</th>\n",
       "      <th>V2</th>\n",
       "      <th>V3</th>\n",
       "      <th>V4</th>\n",
       "      <th>V5</th>\n",
       "      <th>V6</th>\n",
       "      <th>V7</th>\n",
       "      <th>V8</th>\n",
       "      <th>V9</th>\n",
       "      <th>V10</th>\n",
       "      <th>...</th>\n",
       "      <th>V53</th>\n",
       "      <th>V54</th>\n",
       "      <th>V55</th>\n",
       "      <th>V56</th>\n",
       "      <th>V57</th>\n",
       "      <th>V58</th>\n",
       "      <th>V59</th>\n",
       "      <th>V60</th>\n",
       "      <th>V61</th>\n",
       "      <th>V62</th>\n",
       "    </tr>\n",
       "  </thead>\n",
       "  <tbody>\n",
       "    <tr>\n",
       "      <th>0</th>\n",
       "      <td>32.895951</td>\n",
       "      <td>-97.037200</td>\n",
       "      <td>38.805806</td>\n",
       "      <td>-104.700250</td>\n",
       "      <td>32.895951</td>\n",
       "      <td>-97.037200</td>\n",
       "      <td>38.174389</td>\n",
       "      <td>-85.736000</td>\n",
       "      <td>32.895951</td>\n",
       "      <td>-97.037200</td>\n",
       "      <td>...</td>\n",
       "      <td>32.895951</td>\n",
       "      <td>-97.037200</td>\n",
       "      <td>33.640444</td>\n",
       "      <td>-84.426944</td>\n",
       "      <td>32.895951</td>\n",
       "      <td>-97.037200</td>\n",
       "      <td>38.805806</td>\n",
       "      <td>-104.700250</td>\n",
       "      <td>32.895951</td>\n",
       "      <td>-97.0372</td>\n",
       "    </tr>\n",
       "    <tr>\n",
       "      <th>1</th>\n",
       "      <td>32.895951</td>\n",
       "      <td>-97.037200</td>\n",
       "      <td>33.640444</td>\n",
       "      <td>-84.426944</td>\n",
       "      <td>32.895951</td>\n",
       "      <td>-97.037200</td>\n",
       "      <td>33.640444</td>\n",
       "      <td>-84.426944</td>\n",
       "      <td>32.895951</td>\n",
       "      <td>-97.037200</td>\n",
       "      <td>...</td>\n",
       "      <td>33.942536</td>\n",
       "      <td>-118.408074</td>\n",
       "      <td>39.642568</td>\n",
       "      <td>-106.917695</td>\n",
       "      <td>32.895951</td>\n",
       "      <td>-97.037200</td>\n",
       "      <td>33.640444</td>\n",
       "      <td>-84.426944</td>\n",
       "      <td>32.895951</td>\n",
       "      <td>-97.0372</td>\n",
       "    </tr>\n",
       "    <tr>\n",
       "      <th>2</th>\n",
       "      <td>25.793250</td>\n",
       "      <td>-80.290556</td>\n",
       "      <td>33.640444</td>\n",
       "      <td>-84.426944</td>\n",
       "      <td>32.895951</td>\n",
       "      <td>-97.037200</td>\n",
       "      <td>33.640444</td>\n",
       "      <td>-84.426944</td>\n",
       "      <td>25.793250</td>\n",
       "      <td>-80.290556</td>\n",
       "      <td>...</td>\n",
       "      <td>25.793250</td>\n",
       "      <td>-80.290556</td>\n",
       "      <td>33.640444</td>\n",
       "      <td>-84.426944</td>\n",
       "      <td>32.895951</td>\n",
       "      <td>-97.037200</td>\n",
       "      <td>39.642568</td>\n",
       "      <td>-106.917695</td>\n",
       "      <td>32.895951</td>\n",
       "      <td>-97.0372</td>\n",
       "    </tr>\n",
       "    <tr>\n",
       "      <th>3</th>\n",
       "      <td>32.895951</td>\n",
       "      <td>-97.037200</td>\n",
       "      <td>41.979595</td>\n",
       "      <td>-87.904464</td>\n",
       "      <td>39.642568</td>\n",
       "      <td>-106.917695</td>\n",
       "      <td>41.979595</td>\n",
       "      <td>-87.904464</td>\n",
       "      <td>32.895951</td>\n",
       "      <td>-97.037200</td>\n",
       "      <td>...</td>\n",
       "      <td>32.895951</td>\n",
       "      <td>-97.037200</td>\n",
       "      <td>41.979595</td>\n",
       "      <td>-87.904464</td>\n",
       "      <td>39.642568</td>\n",
       "      <td>-106.917695</td>\n",
       "      <td>41.979595</td>\n",
       "      <td>-87.904464</td>\n",
       "      <td>32.895951</td>\n",
       "      <td>-97.0372</td>\n",
       "    </tr>\n",
       "    <tr>\n",
       "      <th>4</th>\n",
       "      <td>25.793250</td>\n",
       "      <td>-80.290556</td>\n",
       "      <td>33.640444</td>\n",
       "      <td>-84.426944</td>\n",
       "      <td>25.793250</td>\n",
       "      <td>-80.290556</td>\n",
       "      <td>38.944532</td>\n",
       "      <td>-77.455810</td>\n",
       "      <td>25.793250</td>\n",
       "      <td>-80.290556</td>\n",
       "      <td>...</td>\n",
       "      <td>39.642568</td>\n",
       "      <td>-106.917695</td>\n",
       "      <td>41.979595</td>\n",
       "      <td>-87.904464</td>\n",
       "      <td>32.895951</td>\n",
       "      <td>-97.037200</td>\n",
       "      <td>33.640444</td>\n",
       "      <td>-84.426944</td>\n",
       "      <td>32.895951</td>\n",
       "      <td>-97.0372</td>\n",
       "    </tr>\n",
       "  </tbody>\n",
       "</table>\n",
       "<p>5 rows × 62 columns</p>\n",
       "</div>"
      ],
      "text/plain": [
       "          V1         V2         V3          V4         V5          V6  \\\n",
       "0  32.895951 -97.037200  38.805806 -104.700250  32.895951  -97.037200   \n",
       "1  32.895951 -97.037200  33.640444  -84.426944  32.895951  -97.037200   \n",
       "2  25.793250 -80.290556  33.640444  -84.426944  32.895951  -97.037200   \n",
       "3  32.895951 -97.037200  41.979595  -87.904464  39.642568 -106.917695   \n",
       "4  25.793250 -80.290556  33.640444  -84.426944  25.793250  -80.290556   \n",
       "\n",
       "          V7         V8         V9        V10   ...           V53         V54  \\\n",
       "0  38.174389 -85.736000  32.895951 -97.037200   ...     32.895951  -97.037200   \n",
       "1  33.640444 -84.426944  32.895951 -97.037200   ...     33.942536 -118.408074   \n",
       "2  33.640444 -84.426944  25.793250 -80.290556   ...     25.793250  -80.290556   \n",
       "3  41.979595 -87.904464  32.895951 -97.037200   ...     32.895951  -97.037200   \n",
       "4  38.944532 -77.455810  25.793250 -80.290556   ...     39.642568 -106.917695   \n",
       "\n",
       "         V55         V56        V57         V58        V59         V60  \\\n",
       "0  33.640444  -84.426944  32.895951  -97.037200  38.805806 -104.700250   \n",
       "1  39.642568 -106.917695  32.895951  -97.037200  33.640444  -84.426944   \n",
       "2  33.640444  -84.426944  32.895951  -97.037200  39.642568 -106.917695   \n",
       "3  41.979595  -87.904464  39.642568 -106.917695  41.979595  -87.904464   \n",
       "4  41.979595  -87.904464  32.895951  -97.037200  33.640444  -84.426944   \n",
       "\n",
       "         V61      V62  \n",
       "0  32.895951 -97.0372  \n",
       "1  32.895951 -97.0372  \n",
       "2  32.895951 -97.0372  \n",
       "3  32.895951 -97.0372  \n",
       "4  32.895951 -97.0372  \n",
       "\n",
       "[5 rows x 62 columns]"
      ]
     },
     "execution_count": 25,
     "metadata": {},
     "output_type": "execute_result"
    }
   ],
   "source": [
    "paths.head()"
   ]
  },
  {
   "cell_type": "code",
   "execution_count": 26,
   "metadata": {
    "collapsed": false
   },
   "outputs": [],
   "source": [
    "paths_std = (paths - paths.mean())/paths.std()"
   ]
  },
  {
   "cell_type": "code",
   "execution_count": 27,
   "metadata": {
    "collapsed": false
   },
   "outputs": [
    {
     "data": {
      "text/plain": [
       "PCA(copy=True, n_components=30, whiten=False)"
      ]
     },
     "execution_count": 27,
     "metadata": {},
     "output_type": "execute_result"
    }
   ],
   "source": [
    "pca = PCA(n_components=30)\n",
    "pca.fit(paths_std)"
   ]
  },
  {
   "cell_type": "code",
   "execution_count": 28,
   "metadata": {
    "collapsed": false
   },
   "outputs": [
    {
     "data": {
      "text/plain": [
       "0.80344934588712125"
      ]
     },
     "execution_count": 28,
     "metadata": {},
     "output_type": "execute_result"
    }
   ],
   "source": [
    "sum(pca.explained_variance_ratio_)"
   ]
  },
  {
   "cell_type": "code",
   "execution_count": 29,
   "metadata": {
    "collapsed": false
   },
   "outputs": [],
   "source": [
    "x_lowdim = paths.values.dot(pca.components_.T)"
   ]
  },
  {
   "cell_type": "code",
   "execution_count": 30,
   "metadata": {
    "collapsed": false
   },
   "outputs": [
    {
     "data": {
      "text/plain": [
       "(14288, 30)"
      ]
     },
     "execution_count": 30,
     "metadata": {},
     "output_type": "execute_result"
    }
   ],
   "source": [
    "x_lowdim.shape"
   ]
  },
  {
   "cell_type": "code",
   "execution_count": 31,
   "metadata": {
    "collapsed": false
   },
   "outputs": [
    {
     "data": {
      "text/plain": [
       "array([[ -4.79132839e+02,   2.86126629e+02,  -1.36343956e+01,\n",
       "         -1.15951398e+01,   5.09127903e+00,   1.48646931e+01,\n",
       "         -3.19097625e+00,   3.49982089e+00,  -2.35288396e+00,\n",
       "         -6.41472956e+00,   4.20020390e+00,   6.33313242e+00,\n",
       "         -4.01741814e+00,   4.09296252e+00,   1.28322540e+01,\n",
       "          5.34951410e+00,  -3.06880425e+00,  -9.56273366e-01,\n",
       "          3.37652746e+00,   4.68396504e+00,   1.47419152e+00,\n",
       "         -2.33657952e-01,  -2.03570817e+00,   2.51264120e-01,\n",
       "          2.94519961e+00,   5.11441280e-01,  -3.55460966e+00,\n",
       "          6.42629585e-02,   1.03536578e+00,   6.71561026e+00],\n",
       "       [ -4.93261290e+02,   2.90429744e+02,  -1.36979277e+01,\n",
       "          8.00520942e+00,   3.80270950e+00,   9.06007276e+00,\n",
       "         -1.05707634e+00,   7.51715196e+00,  -1.64731654e+01,\n",
       "          6.83842807e-02,  -7.74347680e-02,  -8.11892615e+00,\n",
       "          2.47308323e+00,   5.57537032e-01,   8.07310876e+00,\n",
       "          1.73374340e+00,   3.31110378e+00,  -2.10799944e+00,\n",
       "         -3.48469880e+00,  -4.36471456e+00,   2.51927510e+00,\n",
       "          1.81001682e+00,   1.39414434e+00,  -6.00038026e+00,\n",
       "         -1.84213820e+00,   1.04771688e+00,   4.38776984e+00,\n",
       "          1.81679094e+00,  -7.43065370e+00,  -9.57643055e+00]])"
      ]
     },
     "execution_count": 31,
     "metadata": {},
     "output_type": "execute_result"
    }
   ],
   "source": [
    "x_lowdim[0:2,:]"
   ]
  },
  {
   "cell_type": "code",
   "execution_count": 32,
   "metadata": {
    "collapsed": false
   },
   "outputs": [
    {
     "data": {
      "text/plain": [
       "<matplotlib.collections.PathCollection at 0x11f06b5f8>"
      ]
     },
     "execution_count": 32,
     "metadata": {},
     "output_type": "execute_result"
    },
    {
     "data": {
      "image/png": "[encoded data removed]",
      "text/plain": [
       "<matplotlib.figure.Figure at 0x11bb26c88>"
      ]
     },
     "metadata": {},
     "output_type": "display_data"
    }
   ],
   "source": [
    "plt.scatter(paths.iloc[:,0],paths.iloc[:,1])"
   ]
  },
  {
   "cell_type": "code",
   "execution_count": 33,
   "metadata": {
    "collapsed": false
   },
   "outputs": [],
   "source": [
    "x_lowdim2 = (x_lowdim-x_lowdim.mean())/x_lowdim.std()\n",
    "K = 10\n",
    "dpgmm = mixture.GMM(n_components=K,covariance_type=\"full\",n_iter=200)\n",
    "dpgmm.fit(x_lowdim2)\n",
    "z = dpgmm.predict(x_lowdim2)"
   ]
  },
  {
   "cell_type": "code",
   "execution_count": 34,
   "metadata": {
    "collapsed": false
   },
   "outputs": [
    {
     "data": {
      "image/png": "[encoded data removed]",
      "text/plain": [
       "<matplotlib.figure.Figure at 0x11d658080>"
      ]
     },
     "metadata": {},
     "output_type": "display_data"
    }
   ],
   "source": [
    "plt.hist(z)\n",
    "plt.title(\"Assignment Histogram\")\n",
    "plt.show()"
   ]
  },
  {
   "cell_type": "code",
   "execution_count": 35,
   "metadata": {
    "collapsed": false
   },
   "outputs": [],
   "source": [
    "# pivot the table by back to lat longs\n",
    "path_k_cluster=[]\n",
    "for i in range(K):\n",
    "    path_no = 10\n",
    "    n_points = int(paths.shape[1]/2)\n",
    "    if sum(z==i)==0:\n",
    "        continue\n",
    "    path_k = paths[z==i]\n",
    "    path_k_subset = path_k.iloc[np.random.choice(path_k.shape[0],path_no),:]\n",
    "\n",
    "    # pd.DataFrame(columns=[\"z\",\"lat\",\"long\"])\n",
    "    path_k_stacked = np.empty([path_no*n_points,3])\n",
    "    l = 0\n",
    "    for i in range(path_no):\n",
    "        for j in range(n_points):\n",
    "            path_k_stacked[l,:] = [i,path_k_subset.iloc[i,(2*j)],path_k_subset.iloc[i,(2*j+1)]]\n",
    "            l += 1\n",
    "    \n",
    "    path_k_cluster.append(path_k_stacked)\n"
   ]
  },
  {
   "cell_type": "code",
   "execution_count": 37,
   "metadata": {
    "collapsed": false
   },
   "outputs": [
    {
     "data": {
      "text/plain": [
       "'blanchedalmond'"
      ]
     },
     "execution_count": 37,
     "metadata": {},
     "output_type": "execute_result"
    }
   ],
   "source": [
    "from matplotlib import colors\n",
    "colors = list(six.iteritems(colors.cnames))\n",
    "colors[1][0]"
   ]
  },
  {
   "cell_type": "code",
   "execution_count": 52,
   "metadata": {
    "collapsed": false
   },
   "outputs": [
    {
     "name": "stderr",
     "output_type": "stream",
     "text": [
      "/Users/sachin/anaconda/lib/python3.5/site-packages/plotly/offline/offline.py:252: UserWarning:\n",
      "\n",
      "Your filename `d3-flight-paths__0` didn't end with .html. Adding .html to the end of your file.\n",
      "\n",
      "/Users/sachin/anaconda/lib/python3.5/site-packages/plotly/offline/offline.py:252: UserWarning:\n",
      "\n",
      "Your filename `d3-flight-paths__1` didn't end with .html. Adding .html to the end of your file.\n",
      "\n",
      "/Users/sachin/anaconda/lib/python3.5/site-packages/plotly/offline/offline.py:252: UserWarning:\n",
      "\n",
      "Your filename `d3-flight-paths__2` didn't end with .html. Adding .html to the end of your file.\n",
      "\n",
      "/Users/sachin/anaconda/lib/python3.5/site-packages/plotly/offline/offline.py:252: UserWarning:\n",
      "\n",
      "Your filename `d3-flight-paths__3` didn't end with .html. Adding .html to the end of your file.\n",
      "\n",
      "/Users/sachin/anaconda/lib/python3.5/site-packages/plotly/offline/offline.py:252: UserWarning:\n",
      "\n",
      "Your filename `d3-flight-paths__4` didn't end with .html. Adding .html to the end of your file.\n",
      "\n",
      "/Users/sachin/anaconda/lib/python3.5/site-packages/plotly/offline/offline.py:252: UserWarning:\n",
      "\n",
      "Your filename `d3-flight-paths__5` didn't end with .html. Adding .html to the end of your file.\n",
      "\n",
      "/Users/sachin/anaconda/lib/python3.5/site-packages/plotly/offline/offline.py:252: UserWarning:\n",
      "\n",
      "Your filename `d3-flight-paths__6` didn't end with .html. Adding .html to the end of your file.\n",
      "\n",
      "/Users/sachin/anaconda/lib/python3.5/site-packages/plotly/offline/offline.py:252: UserWarning:\n",
      "\n",
      "Your filename `d3-flight-paths__7` didn't end with .html. Adding .html to the end of your file.\n",
      "\n",
      "/Users/sachin/anaconda/lib/python3.5/site-packages/plotly/offline/offline.py:252: UserWarning:\n",
      "\n",
      "Your filename `d3-flight-paths__8` didn't end with .html. Adding .html to the end of your file.\n",
      "\n",
      "/Users/sachin/anaconda/lib/python3.5/site-packages/plotly/offline/offline.py:252: UserWarning:\n",
      "\n",
      "Your filename `d3-flight-paths__9` didn't end with .html. Adding .html to the end of your file.\n",
      "\n"
     ]
    }
   ],
   "source": [
    "#colors = cm.jet(np.linspace(0, 1, K))\n",
    "#for i in range(K):\n",
    "colors[3]=(\"red\",\"x\")\n",
    "colors[4]=(\"black\",\"x\")\n",
    "\n",
    "for idx in range(K):\n",
    "    path_k_stacked = path_k_cluster[idx]\n",
    "\n",
    "    airports2 = [ dict(\n",
    "            type = 'scattergeo',\n",
    "            locationmode = 'USA-states',\n",
    "            lon = airports.long,\n",
    "            lat = airports.lat,\n",
    "            hoverinfo = 'text',\n",
    "            text = airports.airport,\n",
    "            mode = 'markers',\n",
    "            marker = dict( \n",
    "                size=2, \n",
    "                color='rgb(255, 0, 0)',\n",
    "                line = dict(\n",
    "                    width=3,\n",
    "                    color='rgba(68, 68, 68, 0)'\n",
    "                )\n",
    "            ))]\n",
    "\n",
    "    flight_paths = []\n",
    "    old_point = 0\n",
    "    for i in range(path_k_stacked.shape[0]-1):\n",
    "        oldpoint = path_k_stacked[i,0]\n",
    "        newpoint = path_k_stacked[i+1,0]\n",
    "        if newpoint != oldpoint:\n",
    "            col = 'rgb(243, 243, 243)'\n",
    "        else:\n",
    "            col = colors[idx+25][0]\n",
    "\n",
    "        flight_paths.append(\n",
    "            dict(\n",
    "                type = 'scattergeo',\n",
    "                locationmode = 'USA-states',\n",
    "                lon = [ path_k_stacked[i,2], path_k_stacked[i+1,2]],\n",
    "                lat = [ path_k_stacked[i,1], path_k_stacked[i+1,1]],\n",
    "                mode = 'lines',\n",
    "                line = dict(\n",
    "                    width = 1,\n",
    "                    color = col,\n",
    "                )#,\n",
    "                #opacity = float(df_flight_paths['cnt'][i])/float(df_flight_paths['cnt'].max()),\n",
    "            )\n",
    "        )\n",
    "\n",
    "    layout = dict(\n",
    "            title = 'Dec. 2014 Dec flight paths<br>(Hover for airport names)',\n",
    "            showlegend = False, \n",
    "            geo = dict(\n",
    "                scope='north america',\n",
    "                projection=dict( type='azimuthal equal area' ),\n",
    "                showland = True,\n",
    "                landcolor = 'rgb(243, 243, 243)',\n",
    "                countrycolor = 'rgb(204, 204, 204)',\n",
    "            ),\n",
    "        )\n",
    "\n",
    "    fig = dict( data=airports2+flight_paths, layout=layout )\n",
    "    url = py.plot( fig, filename='d3-flight-paths__'+str(idx) )"
   ]
  },
  {
   "cell_type": "code",
   "execution_count": 51,
   "metadata": {
    "collapsed": false
   },
   "outputs": [
    {
     "data": {
      "text/plain": [
       "('red', 'x')"
      ]
     },
     "execution_count": 51,
     "metadata": {},
     "output_type": "execute_result"
    }
   ],
   "source": [
    "colors[3]"
   ]
  },
  {
   "cell_type": "code",
   "execution_count": null,
   "metadata": {
    "collapsed": true
   },
   "outputs": [],
   "source": []
  }
 ],
 "metadata": {
  "kernelspec": {
   "display_name": "Python 3",
   "language": "python",
   "name": "python3"
  },
  "language_info": {
   "codemirror_mode": {
    "name": "ipython",
    "version": 3
   },
   "file_extension": ".py",
   "mimetype": "text/x-python",
   "name": "python",
   "nbconvert_exporter": "python",
   "pygments_lexer": "ipython3",
   "version": "3.5.1"
  },
  "latex_envs": {
   "bibliofile": "biblio.bib",
   "cite_by": "apalike",
   "current_citInitial": 1,
   "eqLabelWithNumbers": true,
   "eqNumInitial": 0
  }
 },
 "nbformat": 4,
 "nbformat_minor": 0
}
